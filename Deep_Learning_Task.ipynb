{
  "nbformat": 4,
  "nbformat_minor": 0,
  "metadata": {
    "colab": {
      "provenance": [],
      "include_colab_link": true
    },
    "kernelspec": {
      "name": "python3",
      "display_name": "Python 3"
    },
    "language_info": {
      "name": "python"
    }
  },
  "cells": [
    {
      "cell_type": "markdown",
      "metadata": {
        "id": "view-in-github",
        "colab_type": "text"
      },
      "source": [
        "<a href=\"https://colab.research.google.com/github/KiroSafwat/DeepLearning/blob/main/Deep_Learning_Task.ipynb\" target=\"_parent\"><img src=\"https://colab.research.google.com/assets/colab-badge.svg\" alt=\"Open In Colab\"/></a>"
      ]
    },
    {
      "cell_type": "markdown",
      "source": [
        "# 🧠 Deep Learning Practical Assignment (Adult Income Dataset)\n",
        "\n",
        "## 📌 Dataset\n",
        "We will use the **Adult Income dataset** (also known as the Census Income dataset).  \n",
        "The task is to predict whether a person earns **more than $50K/year** based on demographic and employment attributes.\n",
        "\n",
        "---\n"
      ],
      "metadata": {
        "id": "THxjKfmyG-St"
      }
    },
    {
      "cell_type": "code",
      "execution_count": 1,
      "metadata": {
        "colab": {
          "base_uri": "https://localhost:8080/"
        },
        "id": "ETxUv-9oGeuT",
        "outputId": "ed5ebc4c-a52f-43d1-c1e9-40b28a747dd0"
      },
      "outputs": [
        {
          "output_type": "stream",
          "name": "stdout",
          "text": [
            "   age  workclass  fnlwgt     education  education-num      marital-status  \\\n",
            "0   25    Private  226802          11th              7       Never-married   \n",
            "1   38    Private   89814       HS-grad              9  Married-civ-spouse   \n",
            "2   28  Local-gov  336951    Assoc-acdm             12  Married-civ-spouse   \n",
            "3   44    Private  160323  Some-college             10  Married-civ-spouse   \n",
            "4   18        NaN  103497  Some-college             10       Never-married   \n",
            "\n",
            "          occupation relationship   race     sex  capital-gain  capital-loss  \\\n",
            "0  Machine-op-inspct    Own-child  Black    Male             0             0   \n",
            "1    Farming-fishing      Husband  White    Male             0             0   \n",
            "2    Protective-serv      Husband  White    Male             0             0   \n",
            "3  Machine-op-inspct      Husband  Black    Male          7688             0   \n",
            "4                NaN    Own-child  White  Female             0             0   \n",
            "\n",
            "   hours-per-week native-country  class  \n",
            "0              40  United-States  <=50K  \n",
            "1              50  United-States  <=50K  \n",
            "2              40  United-States   >50K  \n",
            "3              40  United-States   >50K  \n",
            "4              30  United-States  <=50K  \n",
            "(48842, 15)\n"
          ]
        }
      ],
      "source": [
        "# Option 1: Using OpenML via scikit-learn\n",
        "from sklearn.datasets import fetch_openml\n",
        "import pandas as pd\n",
        "\n",
        "# Load dataset from OpenML\n",
        "adult = fetch_openml(name=\"adult\", version=2, as_frame=True)\n",
        "df = adult.frame\n",
        "\n",
        "print(df.head())\n",
        "print(df.shape)  # (48842, 15)\n",
        "\n",
        "# Separate features and target\n",
        "X = df.drop(columns=\"class\")\n",
        "y = df[\"class\"]\n"
      ]
    },
    {
      "cell_type": "markdown",
      "source": [
        "## Part 0: Data Preparation\n",
        "1. Load the dataset into a DataFrame.\n",
        "2. Split the data into **training, validation, and test sets**.  \n",
        "   - Suggested: 70% training, 15% validation, 15% test.\n",
        "3. Apply any necessary preprocessing:\n",
        "   - Handle categorical features (encoding).\n",
        "   - Scale numerical features if needed.\n",
        "4. After training your models, always report results on:\n",
        "   - **Training accuracy**\n",
        "   - **Validation accuracy**\n",
        "   - **Test accuracy**\n",
        "5. At the end of the assignment, **compare all methods** across train, validation, and test sets.\n"
      ],
      "metadata": {
        "id": "qqY4sTfrHQF_"
      }
    },
    {
      "cell_type": "code",
      "source": [
        "from sklearn.datasets import fetch_openml\n",
        "from sklearn.model_selection import train_test_split\n",
        "from sklearn.preprocessing import OneHotEncoder, StandardScaler\n",
        "from sklearn.compose import ColumnTransformer\n",
        "import pandas as pd\n",
        "\n",
        "adult = fetch_openml(name=\"adult\", version=2, as_frame=True)\n",
        "df = adult.frame\n",
        "X = df.drop(columns=\"class\")\n",
        "y = df[\"class\"]\n",
        "\n",
        "X_train, X_temp, y_train, y_temp = train_test_split(X, y, test_size=0.3, stratify=y, random_state=42)\n",
        "X_valid, X_test, y_valid, y_test = train_test_split(X_temp, y_temp, test_size=0.5, stratify=y_temp, random_state=42)\n",
        "\n",
        "num_cols = X.select_dtypes(include=['float64', 'int64']).columns\n",
        "cat_cols = X.select_dtypes(include=['object', 'category']).columns\n",
        "\n",
        "preprocessor = ColumnTransformer([\n",
        "    ('num', StandardScaler(), num_cols),\n",
        "    ('cat', OneHotEncoder(handle_unknown=\"ignore\"), cat_cols)\n",
        "])\n",
        "\n",
        "X_train_prep = preprocessor.fit_transform(X_train)\n",
        "X_valid_prep = preprocessor.transform(X_valid)\n",
        "X_test_prep = preprocessor.transform(X_test)\n"
      ],
      "metadata": {
        "id": "3uG3mAu5HTJI"
      },
      "execution_count": 2,
      "outputs": []
    },
    {
      "cell_type": "markdown",
      "source": [
        "\n",
        "## Part 1: Optimizers\n",
        "1. Train the same neural network using:\n",
        "   - Stochastic Gradient Descent (SGD)\n",
        "   - SGD with Momentum\n",
        "   - Adam\n",
        "2. Compare the training and validation accuracy for each optimizer.\n",
        "3. Which optimizer converges the fastest? Which gives the best generalization?\n",
        "4. Explain *why* Adam often performs better than plain SGD.\n",
        "\n",
        "---\n"
      ],
      "metadata": {
        "id": "LPpltt4ZG3fN"
      }
    },
    {
      "cell_type": "code",
      "source": [
        "from sklearn.datasets import fetch_openml\n",
        "from sklearn.model_selection import train_test_split\n",
        "from sklearn.preprocessing import OneHotEncoder, StandardScaler\n",
        "from sklearn.compose import ColumnTransformer\n",
        "import numpy as np\n",
        "import tensorflow as tf\n",
        "from tensorflow import keras\n",
        "\n",
        "adult = fetch_openml(name=\"adult\", version=2, as_frame=True)\n",
        "df = adult.frame\n",
        "X = df.drop(columns=\"class\")\n",
        "y = df[\"class\"]\n",
        "\n",
        "X_train, X_temp, y_train, y_temp = train_test_split(X, y, test_size=0.3, stratify=y, random_state=42)\n",
        "X_valid, X_test, y_valid, y_test = train_test_split(X_temp, y_temp, test_size=0.5, stratify=y_temp, random_state=42)\n",
        "\n",
        "num_cols = X.select_dtypes(include=['float64', 'int64']).columns\n",
        "cat_cols = X.select_dtypes(include=['object', 'category']).columns\n",
        "\n",
        "preprocessor = ColumnTransformer([\n",
        "    ('num', StandardScaler(), num_cols),\n",
        "    ('cat', OneHotEncoder(handle_unknown=\"ignore\"), cat_cols)\n",
        "])\n",
        "\n",
        "X_train_prep = preprocessor.fit_transform(X_train)\n",
        "X_valid_prep = preprocessor.transform(X_valid)\n",
        "X_test_prep = preprocessor.transform(X_test)\n",
        "\n",
        "X_train_prep = np.array(X_train_prep.todense() if hasattr(X_train_prep, \"todense\") else X_train_prep, dtype=float)\n",
        "X_valid_prep = np.array(X_valid_prep.todense() if hasattr(X_valid_prep, \"todense\") else X_valid_prep, dtype=float)\n",
        "X_test_prep = np.array(X_test_prep.todense() if hasattr(X_test_prep, \"todense\") else X_test_prep, dtype=float)\n",
        "\n",
        "y_train = (y_train == '>50K').astype(int)\n",
        "y_valid = (y_valid == '>50K').astype(int)\n",
        "y_test  = (y_test == '>50K').astype(int)\n",
        "\n",
        "optimizers = {\n",
        "    \"SGD\": keras.optimizers.SGD(learning_rate=0.01),\n",
        "    \"SGD_Momentum\": keras.optimizers.SGD(learning_rate=0.01, momentum=0.9),\n",
        "    \"Adam\": keras.optimizers.Adam(learning_rate=0.001)\n",
        "}\n",
        "\n",
        "results = {}\n",
        "\n",
        "for name, opt in optimizers.items():\n",
        "    model = keras.Sequential([\n",
        "        keras.layers.Input(shape=(X_train_prep.shape[1],)),\n",
        "        keras.layers.Dense(64, activation='relu'),\n",
        "        keras.layers.Dense(32, activation='relu'),\n",
        "        keras.layers.Dense(1, activation='sigmoid')\n",
        "    ])\n",
        "    model.compile(optimizer=opt, loss='binary_crossentropy', metrics=['accuracy'])\n",
        "    history = model.fit(X_train_prep, y_train, validation_data=(X_valid_prep, y_valid), epochs=10, batch_size=32, verbose=0)\n",
        "    results[name] = {\n",
        "        \"train_acc\": history.history['accuracy'][-1],\n",
        "        \"val_acc\": history.history['val_accuracy'][-1]\n",
        "    }\n",
        "\n",
        "for k, v in results.items():\n",
        "    print(f\"{k}: Train Acc={v['train_acc']:.4f}, Val Acc={v['val_acc']:.4f}\")\n"
      ],
      "metadata": {
        "id": "wnoISz2rHMJ0",
        "colab": {
          "base_uri": "https://localhost:8080/"
        },
        "outputId": "b05c1317-a102-4935-b515-498be24ce520"
      },
      "execution_count": 7,
      "outputs": [
        {
          "output_type": "stream",
          "name": "stdout",
          "text": [
            "SGD: Train Acc=0.8557, Val Acc=0.8579\n",
            "SGD_Momentum: Train Acc=0.8601, Val Acc=0.8654\n",
            "Adam: Train Acc=0.8688, Val Acc=0.8617\n"
          ]
        }
      ]
    },
    {
      "cell_type": "markdown",
      "source": [
        "## Part 2: Batch Size\n",
        "1. Train the same model with different batch sizes (e.g., 1, 32, 128, 1024).\n",
        "2. Compare:\n",
        "   - Training speed\n",
        "   - Validation accuracy\n",
        "   - Test accuracy\n",
        "   - Generalization ability\n",
        "3. Which batch size leads to the **noisiest gradient updates**?\n",
        "4. Which batch size generalizes better and why?"
      ],
      "metadata": {
        "id": "Wv6ZlRldHC09"
      }
    },
    {
      "cell_type": "code",
      "source": [
        "import tensorflow as tf\n",
        "from tensorflow import keras\n",
        "from sklearn.preprocessing import OneHotEncoder, StandardScaler\n",
        "from sklearn.compose import ColumnTransformer\n",
        "from sklearn.model_selection import train_test_split\n",
        "from sklearn.datasets import fetch_openml\n",
        "\n",
        "adult = fetch_openml(name=\"adult\", version=2, as_frame=True)\n",
        "df = adult.frame\n",
        "X = df.drop(columns=\"class\")\n",
        "y = (df[\"class\"] == \">50K\").astype(int)\n",
        "\n",
        "num = X.select_dtypes(include=['int64', 'float64']).columns\n",
        "cat = X.select_dtypes(include=['object', 'category']).columns\n",
        "ct = ColumnTransformer([(\"num\", StandardScaler(), num), (\"cat\", OneHotEncoder(handle_unknown=\"ignore\"), cat)])\n",
        "X_prep = ct.fit_transform(X)\n",
        "\n",
        "X_train, X_temp, y_train, y_temp = train_test_split(X_prep, y, test_size=0.3, random_state=42)\n",
        "X_valid, X_test, y_valid, y_test = train_test_split(X_temp, y_temp, test_size=0.5, random_state=42)\n",
        "\n",
        "batch_sizes = [1, 32, 128, 1024]\n",
        "for bs in batch_sizes:\n",
        "    print(f\"\\nBatch Size = {bs}\")\n",
        "    model = keras.Sequential([keras.layers.Dense(32, activation='relu'),\n",
        "                              keras.layers.Dense(16, activation='relu'),\n",
        "                              keras.layers.Dense(1, activation='sigmoid')])\n",
        "    model.compile(optimizer='adam', loss='binary_crossentropy', metrics=['accuracy'])\n",
        "    model.fit(X_train, y_train, validation_data=(X_valid, y_valid), epochs=3, batch_size=bs, verbose=0)\n",
        "    loss, acc = model.evaluate(X_test, y_test, verbose=0)\n",
        "    print(\"Test Accuracy:\", acc)\n"
      ],
      "metadata": {
        "id": "uBodrpTrHLMy",
        "colab": {
          "base_uri": "https://localhost:8080/"
        },
        "outputId": "053fe6cd-281d-4bed-cd35-c6a745e9f5b2"
      },
      "execution_count": 9,
      "outputs": [
        {
          "output_type": "stream",
          "name": "stdout",
          "text": [
            "\n",
            "Batch Size = 1\n",
            "Test Accuracy: 0.8646103739738464\n",
            "\n",
            "Batch Size = 32\n",
            "Test Accuracy: 0.8659751415252686\n",
            "\n",
            "Batch Size = 128\n",
            "Test Accuracy: 0.864883303642273\n",
            "\n",
            "Batch Size = 1024\n",
            "Test Accuracy: 0.8516445755958557\n"
          ]
        }
      ]
    },
    {
      "cell_type": "markdown",
      "source": [
        "\n",
        "## Part 3: Overfitting and Regularization\n",
        "1. Train a large neural network (many parameters) on the dataset.\n",
        "2. Observe training vs. validation accuracy.  \n",
        "   - Do you see signs of overfitting?\n",
        "3. Apply regularization techniques:\n",
        "   - **L2 regularization**\n",
        "   - **Dropout**\n",
        "4. Compare the validation results before and after regularization.\n",
        "5. Which regularization method was more effective in reducing overfitting? Why?\n",
        "\n",
        "---\n"
      ],
      "metadata": {
        "id": "9NDO_bUjHDz3"
      }
    },
    {
      "cell_type": "code",
      "source": [
        "import tensorflow as tf\n",
        "from tensorflow import keras\n",
        "from sklearn.preprocessing import OneHotEncoder, StandardScaler\n",
        "from sklearn.compose import ColumnTransformer\n",
        "from sklearn.model_selection import train_test_split\n",
        "from sklearn.datasets import fetch_openml\n",
        "\n",
        "adult = fetch_openml(name=\"adult\", version=2, as_frame=True)\n",
        "df = adult.frame\n",
        "X = df.drop(columns=\"class\")\n",
        "y = (df[\"class\"] == \">50K\").astype(int)\n",
        "\n",
        "num = X.select_dtypes(include=['int64', 'float64']).columns\n",
        "cat = X.select_dtypes(include=['object', 'category']).columns\n",
        "ct = ColumnTransformer([(\"num\", StandardScaler(), num), (\"cat\", OneHotEncoder(handle_unknown=\"ignore\"), cat)])\n",
        "X_prep = ct.fit_transform(X)\n",
        "\n",
        "X_train, X_temp, y_train, y_temp = train_test_split(X_prep, y, test_size=0.3, random_state=42)\n",
        "X_valid, X_test, y_valid, y_test = train_test_split(X_temp, y_temp, test_size=0.5, random_state=42)\n",
        "\n",
        "print(\"\\nWithout Regularization:\")\n",
        "model1 = keras.Sequential([\n",
        "    keras.layers.Dense(256, activation='relu'),\n",
        "    keras.layers.Dense(128, activation='relu'),\n",
        "    keras.layers.Dense(64, activation='relu'),\n",
        "    keras.layers.Dense(1, activation='sigmoid')\n",
        "])\n",
        "model1.compile(optimizer='adam', loss='binary_crossentropy', metrics=['accuracy'])\n",
        "model1.fit(X_train, y_train, validation_data=(X_valid, y_valid), epochs=5, batch_size=128, verbose=0)\n",
        "print(model1.evaluate(X_valid, y_valid, verbose=0))\n",
        "\n",
        "print(\"\\nWith L2 Regularization + Dropout:\")\n",
        "model2 = keras.Sequential([\n",
        "    keras.layers.Dense(256, activation='relu', kernel_regularizer=keras.regularizers.l2(0.01)),\n",
        "    keras.layers.Dropout(0.5),\n",
        "    keras.layers.Dense(128, activation='relu', kernel_regularizer=keras.regularizers.l2(0.01)),\n",
        "    keras.layers.Dropout(0.5),\n",
        "    keras.layers.Dense(64, activation='relu', kernel_regularizer=keras.regularizers.l2(0.01)),\n",
        "    keras.layers.Dense(1, activation='sigmoid')\n",
        "])\n",
        "model2.compile(optimizer='adam', loss='binary_crossentropy', metrics=['accuracy'])\n",
        "model2.fit(X_train, y_train, validation_data=(X_valid, y_valid), epochs=5, batch_size=128, verbose=0)\n",
        "print(model2.evaluate(X_valid, y_valid, verbose=0))\n"
      ],
      "metadata": {
        "id": "d74t2UPVHKdO",
        "colab": {
          "base_uri": "https://localhost:8080/"
        },
        "outputId": "879bd2e9-75b9-4d1d-f170-23c11a5702c3"
      },
      "execution_count": 10,
      "outputs": [
        {
          "output_type": "stream",
          "name": "stdout",
          "text": [
            "\n",
            "Without Regularization:\n",
            "[0.30644339323043823, 0.8626808524131775]\n",
            "\n",
            "With L2 Regularization + Dropout:\n",
            "[0.3600572347640991, 0.8574938774108887]\n"
          ]
        }
      ]
    },
    {
      "cell_type": "markdown",
      "source": [
        "## Part 4: Early Stopping\n",
        "1. Train the model for many epochs without early stopping.  \n",
        "   - Plot training, validation, and test curves.\n",
        "2. Train again with **early stopping** (monitor validation loss).\n",
        "3. Compare the number of epochs trained and the final validation/test accuracy.\n",
        "4. Explain how early stopping helps prevent overfitting.\n",
        "\n",
        "---"
      ],
      "metadata": {
        "id": "B0NQsxyYHFpy"
      }
    },
    {
      "cell_type": "code",
      "source": [
        "import tensorflow as tf\n",
        "from tensorflow import keras\n",
        "from sklearn.datasets import fetch_openml\n",
        "from sklearn.model_selection import train_test_split\n",
        "from sklearn.preprocessing import OneHotEncoder, StandardScaler\n",
        "from sklearn.compose import ColumnTransformer\n",
        "import matplotlib.pyplot as plt\n",
        "\n",
        "adult = fetch_openml(name=\"adult\", version=2, as_frame=True)\n",
        "df = adult.frame\n",
        "X = df.drop(columns=\"class\")\n",
        "y = (df[\"class\"] == \">50K\").astype(int)\n",
        "\n",
        "num = X.select_dtypes(include=['int64', 'float64']).columns\n",
        "cat = X.select_dtypes(include=['object', 'category']).columns\n",
        "ct = ColumnTransformer([(\"num\", StandardScaler(), num), (\"cat\", OneHotEncoder(handle_unknown=\"ignore\"), cat)])\n",
        "X_prep = ct.fit_transform(X)\n",
        "\n",
        "X_train, X_temp, y_train, y_temp = train_test_split(X_prep, y, test_size=0.3, random_state=42)\n",
        "X_valid, X_test, y_valid, y_test = train_test_split(X_temp, y_temp, test_size=0.5, random_state=42)\n",
        "\n",
        "model = keras.Sequential([\n",
        "    keras.layers.Dense(128, activation='relu'),\n",
        "    keras.layers.Dense(64, activation='relu'),\n",
        "    keras.layers.Dense(1, activation='sigmoid')\n",
        "])\n",
        "model.compile(optimizer='adam', loss='binary_crossentropy', metrics=['accuracy'])\n",
        "h1 = model.fit(X_train, y_train, validation_data=(X_valid, y_valid), epochs=50, batch_size=128, verbose=0)\n",
        "\n",
        "plt.plot(h1.history['accuracy'], label='Train')\n",
        "plt.plot(h1.history['val_accuracy'], label='Val')\n",
        "plt.legend()\n",
        "plt.title('Without Early Stopping')\n",
        "plt.show()\n",
        "\n",
        "early_stop = keras.callbacks.EarlyStopping(monitor='val_loss', patience=3, restore_best_weights=True)\n",
        "model2 = keras.Sequential([\n",
        "    keras.layers.Dense(128, activation='relu'),\n",
        "    keras.layers.Dense(64, activation='relu'),\n",
        "    keras.layers.Dense(1, activation='sigmoid')\n",
        "])\n",
        "model2.compile(optimizer='adam', loss='binary_crossentropy', metrics=['accuracy'])\n",
        "h2 = model2.fit(X_train, y_train, validation_data=(X_valid, y_valid), epochs=50, batch_size=128, callbacks=[early_stop], verbose=0)\n",
        "\n",
        "plt.plot(h2.history['accuracy'], label='Train')\n",
        "plt.plot(h2.history['val_accuracy'], label='Val')\n",
        "plt.legend()\n",
        "plt.title('With Early Stopping')\n",
        "plt.show()\n",
        "\n",
        "print(\"Without Early Stopping Test Acc:\", model.evaluate(X_test, y_test, verbose=0)[1])\n",
        "print(\"With Early Stopping Test Acc:\", model2.evaluate(X_test, y_test, verbose=0)[1])\n"
      ],
      "metadata": {
        "id": "bnqrGbCzHI2V",
        "colab": {
          "base_uri": "https://localhost:8080/",
          "height": 922
        },
        "outputId": "4abc1d9f-bf75-46c4-a77f-a55c44d7c12e"
      },
      "execution_count": 11,
      "outputs": [
        {
          "output_type": "display_data",
          "data": {
            "text/plain": [
              "<Figure size 640x480 with 1 Axes>"
            ],
            "image/png": "[encoded data removed]"
          },
          "metadata": {}
        },
        {
          "output_type": "display_data",
          "data": {
            "text/plain": [
              "<Figure size 640x480 with 1 Axes>"
            ],
            "image/png": "[encoded data removed]"
          },
          "metadata": {}
        },
        {
          "output_type": "stream",
          "name": "stdout",
          "text": [
            "Without Early Stopping Test Acc: 0.8455029129981995\n",
            "With Early Stopping Test Acc: 0.8646103739738464\n"
          ]
        }
      ]
    },
    {
      "cell_type": "markdown",
      "source": [
        "## Part 5: Reflection\n",
        "1. Summarize what you learned about:\n",
        "   - The role of optimizers\n",
        "   - The effect of batch size\n",
        "   - Regularization methods\n",
        "   - Early stopping\n",
        "   - Train/validation/test splits\n",
        "2. If you had to train a deep learning model on a new tabular dataset, what choices would you make for:\n",
        "   - Optimizer\n",
        "   - Batch size\n",
        "   - Regularization\n",
        "   - Early stopping\n",
        "   - Data splitting strategy  \n",
        "   and why?"
      ],
      "metadata": {
        "id": "Ix3ePqRnHHSs"
      }
    },
    {
      "cell_type": "code",
      "source": [],
      "metadata": {
        "id": "zj8KFZ2LGsuQ"
      },
      "execution_count": null,
      "outputs": []
    }
  ]
}